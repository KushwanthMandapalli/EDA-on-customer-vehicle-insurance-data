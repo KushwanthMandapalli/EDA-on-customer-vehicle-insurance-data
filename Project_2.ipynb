{
 "cells": [
  {
   "cell_type": "markdown",
   "id": "132d9d37",
   "metadata": {},
   "source": [
    "# Project 2 - EDA on Vehicle Insurance Customer Data"
   ]
  },
  {
   "cell_type": "markdown",
   "id": "20662179",
   "metadata": {},
   "source": [
    "## 1"
   ]
  },
  {
   "cell_type": "markdown",
   "id": "c5bf9ce1",
   "metadata": {},
   "source": [
    "## Loading the files and creating the columns"
   ]
  },
  {
   "cell_type": "code",
   "execution_count": 1,
   "id": "d5cf4157",
   "metadata": {},
   "outputs": [
    {
     "name": "stdout",
     "output_type": "stream",
     "text": [
      "(381109, 8)\n",
      "(381109, 5)\n"
     ]
    }
   ],
   "source": [
    "# import pandas library and import the .csv files\n",
    "\n",
    "import pandas as pd\n",
    "\n",
    "Cust_Details = pd.read_csv('customer_details.csv')\n",
    "\n",
    "Cust_Policy = pd.read_csv('customer_policy_details.csv')\n",
    "\n",
    "Cust_Details.name = 'Customer Details'\n",
    "\n",
    "Cust_Policy.name = 'Customer Policy Details'\n",
    "\n",
    "\n",
    "# i) and ii) adding the column names\n",
    "\n",
    "cd_column_list = ['customer_id','Gender','age','driving licence present','region code',\n",
    "                 'previously insured','vehicle age', 'vehicle damage']\n",
    "cp_column_list = ['customer_id','annual_premium(in Rs)','sales channel code',\n",
    "                 'vintage','response']\n",
    "\n",
    "Cust_Details.columns = cd_column_list\n",
    "Cust_Policy.columns = cp_column_list\n",
    "\n",
    "print(Cust_Details.shape)\n",
    "\n",
    "print(Cust_Policy.shape)\n",
    "\n",
    "\n",
    "\n",
    "\n",
    "\n"
   ]
  },
  {
   "cell_type": "markdown",
   "id": "dc2d20b4",
   "metadata": {},
   "source": [
    "## 2"
   ]
  },
  {
   "cell_type": "markdown",
   "id": "c04b8393",
   "metadata": {},
   "source": [
    "## Null value count"
   ]
  },
  {
   "cell_type": "code",
   "execution_count": 2,
   "id": "77c844e1",
   "metadata": {},
   "outputs": [
    {
     "name": "stdout",
     "output_type": "stream",
     "text": [
      "null value count for Customer Details Data is : \n",
      " customer_id                386\n",
      "Gender                     368\n",
      "age                        368\n",
      "driving licence present    393\n",
      "region code                392\n",
      "previously insured         381\n",
      "vehicle age                381\n",
      "vehicle damage             407\n",
      "dtype: int64 \n",
      "\n",
      "null value count for Customer Policy Data is : \n",
      " customer_id              387\n",
      "annual_premium(in Rs)    346\n",
      "sales channel code       400\n",
      "vintage                  388\n",
      "response                 361\n",
      "dtype: int64 \n",
      "\n"
     ]
    }
   ],
   "source": [
    "def null_value_counts(df):\n",
    "    null_count = df.isnull().sum()\n",
    "    return null_count\n",
    "\n",
    "# i) null value count summary\n",
    "print('null value count for Customer Details Data is :','\\n',null_value_counts(Cust_Details),'\\n')\n",
    "\n",
    "print('null value count for Customer Policy Data is :','\\n',null_value_counts(Cust_Policy),'\\n')\n"
   ]
  },
  {
   "cell_type": "markdown",
   "id": "c66f8339",
   "metadata": {},
   "source": [
    "## Dropping null values of customer id"
   ]
  },
  {
   "cell_type": "code",
   "execution_count": 3,
   "id": "abdc3483",
   "metadata": {},
   "outputs": [],
   "source": [
    "# drop null values for customer_id's\n",
    "import numpy as np\n",
    "\n",
    "\n",
    "Cust_Details.dropna(subset = ['customer_id'],inplace = True)\n",
    "\n",
    "Cust_Policy.dropna(subset = ['customer_id'],inplace = True)\n",
    "\n"
   ]
  },
  {
   "cell_type": "markdown",
   "id": "ad6b1cb7",
   "metadata": {},
   "source": [
    "## Filling null values with mean and mode"
   ]
  },
  {
   "cell_type": "code",
   "execution_count": 4,
   "id": "f92753c2",
   "metadata": {},
   "outputs": [],
   "source": [
    "# filling the numeric type column Nan value with mean value of the column\n",
    "\n",
    "Cd_num_columns = Cust_Details.select_dtypes(np.number).columns.tolist()\n",
    "Cp_num_columns = Cust_Policy.select_dtypes(np.number).columns.tolist()\n",
    "\n",
    "def fill_na_mean(Data,col_list):\n",
    "    \n",
    "    for cols in col_list:\n",
    "        mean = Data[cols].mean()\n",
    "        Data[cols].fillna(mean,inplace = True)\n",
    "def fill_na_mode(Data,col_list):\n",
    "    \n",
    "    for cols in col_list:\n",
    "        mode = Data[cols].mode()\n",
    "        Data[cols].fillna(mode[0],inplace = True)\n",
    "        \n",
    "\n",
    "        \n",
    "        \n",
    "fill_na_mean(Cust_Details,Cd_num_columns)\n",
    "fill_na_mean(Cust_Policy,Cp_num_columns)\n",
    "\n",
    "# filling the categorical values with mode value of the column\n",
    "\n",
    "cd_obj_columns = Cust_Details.select_dtypes(include = 'object').columns.tolist()\n",
    "cp_obj_columns = Cust_Policy.select_dtypes(include = 'object').columns.tolist()\n",
    "\n",
    "fill_na_mode(Cust_Details,cd_obj_columns)\n",
    "fill_na_mode(Cust_Policy,cp_obj_columns)   "
   ]
  },
  {
   "cell_type": "markdown",
   "id": "0978c8ed",
   "metadata": {},
   "source": [
    "## Finding outliers"
   ]
  },
  {
   "cell_type": "code",
   "execution_count": 5,
   "id": "4028cf9b",
   "metadata": {},
   "outputs": [
    {
     "name": "stdout",
     "output_type": "stream",
     "text": [
      "The outliers count for age in Dataframe Customer Details is : 0\n",
      "The outliers count for driving licence present in Dataframe Customer Details is : 1203\n",
      "The outliers count for previously insured in Dataframe Customer Details is : 0\n",
      "The outliers count for customer_id in Dataframe Customer Details is : 0\n",
      "\n",
      "\n",
      "The outliers count for customer_id in Dataframe Customer Policy Details is : 0\n",
      "The outliers count for annual_premium(in Rs) in Dataframe Customer Policy Details is : 10332\n",
      "The outliers count for sales channel code in Dataframe Customer Policy Details is : 0\n",
      "The outliers count for vintage in Dataframe Customer Policy Details is : 0\n",
      "The outliers count for response in Dataframe Customer Policy Details is : 46965\n"
     ]
    },
    {
     "name": "stderr",
     "output_type": "stream",
     "text": [
      "C:\\Users\\Kushwanth\\AppData\\Local\\Temp\\ipykernel_14840\\1021809673.py:2: DeprecationWarning: Converting `np.inexact` or `np.floating` to a dtype is deprecated. The current result is `float64` which is not strictly correct.\n",
      "  if Data[col].dtype == np.number:\n",
      "C:\\Users\\Kushwanth\\AppData\\Local\\Temp\\ipykernel_14840\\1021809673.py:2: DeprecationWarning: Converting `np.inexact` or `np.floating` to a dtype is deprecated. The current result is `float64` which is not strictly correct.\n",
      "  if Data[col].dtype == np.number:\n",
      "C:\\Users\\Kushwanth\\AppData\\Local\\Temp\\ipykernel_14840\\1021809673.py:2: DeprecationWarning: Converting `np.inexact` or `np.floating` to a dtype is deprecated. The current result is `float64` which is not strictly correct.\n",
      "  if Data[col].dtype == np.number:\n",
      "C:\\Users\\Kushwanth\\AppData\\Local\\Temp\\ipykernel_14840\\1021809673.py:2: DeprecationWarning: Converting `np.inexact` or `np.floating` to a dtype is deprecated. The current result is `float64` which is not strictly correct.\n",
      "  if Data[col].dtype == np.number:\n",
      "C:\\Users\\Kushwanth\\AppData\\Local\\Temp\\ipykernel_14840\\1021809673.py:2: DeprecationWarning: Converting `np.inexact` or `np.floating` to a dtype is deprecated. The current result is `float64` which is not strictly correct.\n",
      "  if Data[col].dtype == np.number:\n",
      "C:\\Users\\Kushwanth\\AppData\\Local\\Temp\\ipykernel_14840\\1021809673.py:2: DeprecationWarning: Converting `np.inexact` or `np.floating` to a dtype is deprecated. The current result is `float64` which is not strictly correct.\n",
      "  if Data[col].dtype == np.number:\n",
      "C:\\Users\\Kushwanth\\AppData\\Local\\Temp\\ipykernel_14840\\1021809673.py:2: DeprecationWarning: Converting `np.inexact` or `np.floating` to a dtype is deprecated. The current result is `float64` which is not strictly correct.\n",
      "  if Data[col].dtype == np.number:\n",
      "C:\\Users\\Kushwanth\\AppData\\Local\\Temp\\ipykernel_14840\\1021809673.py:2: DeprecationWarning: Converting `np.inexact` or `np.floating` to a dtype is deprecated. The current result is `float64` which is not strictly correct.\n",
      "  if Data[col].dtype == np.number:\n",
      "C:\\Users\\Kushwanth\\AppData\\Local\\Temp\\ipykernel_14840\\1021809673.py:2: DeprecationWarning: Converting `np.inexact` or `np.floating` to a dtype is deprecated. The current result is `float64` which is not strictly correct.\n",
      "  if Data[col].dtype == np.number:\n"
     ]
    }
   ],
   "source": [
    "\n",
    "def outliers_count(Data,col):\n",
    "    if Data[col].dtype == np.number:\n",
    "        \n",
    "        Q1 = Data[col].quantile(0.25)\n",
    "        Q3 = Data[col].quantile(0.75)\n",
    "        IQR = Q3 - Q1\n",
    "    \n",
    "        lower_outlier = Q1 - 1.5*IQR\n",
    "        higher_outlier = Q3 + 1.5*IQR\n",
    "    \n",
    "        outliers = Data[(Data[col]<lower_outlier)|(Data[col]>higher_outlier)]\n",
    "        print(f'The outliers count for {col} in Dataframe {Data.name} is :',outliers[col].count())\n",
    "    else:\n",
    "        raise Exception('selected column data type is not numeric')\n",
    "\n",
    "        \n",
    "def outlier(Data,col):\n",
    "    if Data[col].dtype == np.number:\n",
    "        Q1 = Data[col].quantile(0.25)\n",
    "        Q3 = Data[col].quantile(0.75)\n",
    "        IQR = Q3 - Q1\n",
    "    \n",
    "        lower_outlier = Q1 - 1.5*IQR\n",
    "        higher_outlier = Q3 + 1.5*IQR\n",
    "    \n",
    "        outliers = Data[(Data[col]<lower_outlier)|(Data[col]>higher_outlier)]\n",
    "    \n",
    "        return outliers[col]\n",
    "    else:\n",
    "        raise Exception('selected column data type is not numeric')\n",
    "        \n",
    "\n",
    "    \n",
    "outliers_count(Cust_Details,'age')\n",
    "outliers_count(Cust_Details,'driving licence present')\n",
    "outliers_count(Cust_Details,'previously insured')\n",
    "outliers_count(Cust_Details,'customer_id')\n",
    "print('\\n')\n",
    "outliers_count(Cust_Policy,'customer_id')\n",
    "outliers_count(Cust_Policy,'annual_premium(in Rs)')\n",
    "outliers_count(Cust_Policy,'sales channel code')\n",
    "outliers_count(Cust_Policy,'vintage')\n",
    "outliers_count(Cust_Policy,'response')\n",
    "\n",
    "\n",
    "\n",
    "\n",
    "#ignore the deprecation warning caused by outdated libraries\n"
   ]
  },
  {
   "cell_type": "markdown",
   "id": "2beda349",
   "metadata": {},
   "source": [
    "## Replacing outliers with mean"
   ]
  },
  {
   "cell_type": "code",
   "execution_count": 24,
   "id": "b9393713",
   "metadata": {},
   "outputs": [
    {
     "name": "stdout",
     "output_type": "stream",
     "text": [
      "The outliers count for driving licence present in Dataframe Customer Details is : 0\n",
      "The outliers count for annual_premium(in Rs) in Dataframe Customer Policy Details is : 0\n",
      "The outliers count for response in Dataframe Customer Policy Details is : 0\n"
     ]
    },
    {
     "name": "stderr",
     "output_type": "stream",
     "text": [
      "C:\\Users\\Kushwanth\\AppData\\Local\\Temp\\ipykernel_14840\\4211551349.py:4: DeprecationWarning: Converting `np.inexact` or `np.floating` to a dtype is deprecated. The current result is `float64` which is not strictly correct.\n",
      "  if Data[col].dtype == np.number:\n",
      "C:\\Users\\Kushwanth\\AppData\\Local\\Temp\\ipykernel_14840\\1021809673.py:2: DeprecationWarning: Converting `np.inexact` or `np.floating` to a dtype is deprecated. The current result is `float64` which is not strictly correct.\n",
      "  if Data[col].dtype == np.number:\n",
      "C:\\Users\\Kushwanth\\AppData\\Local\\Temp\\ipykernel_14840\\4211551349.py:4: DeprecationWarning: Converting `np.inexact` or `np.floating` to a dtype is deprecated. The current result is `float64` which is not strictly correct.\n",
      "  if Data[col].dtype == np.number:\n",
      "C:\\Users\\Kushwanth\\AppData\\Local\\Temp\\ipykernel_14840\\1021809673.py:2: DeprecationWarning: Converting `np.inexact` or `np.floating` to a dtype is deprecated. The current result is `float64` which is not strictly correct.\n",
      "  if Data[col].dtype == np.number:\n",
      "C:\\Users\\Kushwanth\\AppData\\Local\\Temp\\ipykernel_14840\\4211551349.py:4: DeprecationWarning: Converting `np.inexact` or `np.floating` to a dtype is deprecated. The current result is `float64` which is not strictly correct.\n",
      "  if Data[col].dtype == np.number:\n",
      "C:\\Users\\Kushwanth\\AppData\\Local\\Temp\\ipykernel_14840\\1021809673.py:2: DeprecationWarning: Converting `np.inexact` or `np.floating` to a dtype is deprecated. The current result is `float64` which is not strictly correct.\n",
      "  if Data[col].dtype == np.number:\n"
     ]
    }
   ],
   "source": [
    "# replacing the outliers with mean\n",
    "\n",
    "def outliers_replace_with_mean(Data,col):\n",
    "    if Data[col].dtype == np.number:\n",
    "        Q1 = Data[col].quantile(0.25)\n",
    "        Q3 = Data[col].quantile(0.75)\n",
    "        IQR = Q3 - Q1\n",
    "    \n",
    "        lower_outlier = Q1 - 1.5*IQR\n",
    "        higher_outlier = Q3 + 1.5*IQR\n",
    "    \n",
    "        outliers = (Data[col]<lower_outlier)|(Data[col]>higher_outlier)\n",
    "        without_outliers = Data[~outliers]\n",
    "        mean = without_outliers[col].mean()\n",
    "        Data.loc[outliers,col] = mean\n",
    "        \n",
    "    \n",
    "        return Data\n",
    "    else:\n",
    "        raise Exception('selected column data type is not numeric')\n",
    "\n",
    "        \n",
    "        \n",
    "        \n",
    "outliers_replace_with_mean(Cust_Details,'driving licence present') \n",
    "outliers_count(Cust_Details,'driving licence present')\n",
    "\n",
    "outliers_replace_with_mean(Cust_Policy,'annual_premium(in Rs)')\n",
    "outliers_count(Cust_Policy,'annual_premium(in Rs)')\n",
    "# replacing the outliers with mean in annual_premium column just reduced the outliers so I repeated the process until the outliers are zero\n",
    "\n",
    "outliers_replace_with_mean(Cust_Policy,'response')\n",
    "outliers_count(Cust_Policy,'response')\n",
    "    "
   ]
  },
  {
   "cell_type": "markdown",
   "id": "1b672562",
   "metadata": {},
   "source": [
    "\n",
    "## Removing whitespaces, case correction, convert nominal data into dummies, drop duplicates"
   ]
  },
  {
   "cell_type": "code",
   "execution_count": 28,
   "id": "f312425f",
   "metadata": {},
   "outputs": [],
   "source": [
    "# iii) Removing white spaces\n",
    "Cust_Details = Cust_Details.applymap(lambda x: x.strip() if isinstance(x,str) else x)\n",
    "Cust_Policy = Cust_Policy.applymap(lambda x: x.strip() if isinstance(x,str) else x)\n",
    "# iv) Case correction to uppercase\n",
    "\n",
    "Cust_Details = Cust_Details.applymap(lambda x: x.upper() if isinstance(x,str) else x)\n",
    "\n",
    "Cust_Policy = Cust_Policy.applymap(lambda x: x.upper() if isinstance(x,str) else x)\n",
    "\n",
    "# v) Convert nominal data into dummies\n",
    "\n",
    "Cust_Details_dummies = Cust_Details['Gender'].apply(lambda x: 1 if x.upper() == 'MALE' else 0)\n",
    "  \n",
    "# vi) dropping duplicated rows\n",
    "\n",
    "Cust_Details = Cust_Details.drop_duplicates(subset = 'customer_id')\n",
    "\n",
    "Cust_Policy = Cust_Policy.drop_duplicates(subset = 'customer_id')\n",
    "\n",
    "\n"
   ]
  },
  {
   "cell_type": "markdown",
   "id": "5e1ad73a",
   "metadata": {},
   "source": [
    "## 3"
   ]
  },
  {
   "cell_type": "markdown",
   "id": "de697d6f",
   "metadata": {},
   "source": [
    "## Creating master table by joining two dataframes"
   ]
  },
  {
   "cell_type": "code",
   "execution_count": 29,
   "id": "5a97b4e1",
   "metadata": {},
   "outputs": [
    {
     "data": {
      "text/html": [
       "<div>\n",
       "<style scoped>\n",
       "    .dataframe tbody tr th:only-of-type {\n",
       "        vertical-align: middle;\n",
       "    }\n",
       "\n",
       "    .dataframe tbody tr th {\n",
       "        vertical-align: top;\n",
       "    }\n",
       "\n",
       "    .dataframe thead th {\n",
       "        text-align: right;\n",
       "    }\n",
       "</style>\n",
       "<table border=\"1\" class=\"dataframe\">\n",
       "  <thead>\n",
       "    <tr style=\"text-align: right;\">\n",
       "      <th></th>\n",
       "      <th>customer_id</th>\n",
       "      <th>Gender</th>\n",
       "      <th>age</th>\n",
       "      <th>driving licence present</th>\n",
       "      <th>region code</th>\n",
       "      <th>previously insured</th>\n",
       "      <th>vehicle age</th>\n",
       "      <th>vehicle damage</th>\n",
       "      <th>annual_premium(in Rs)</th>\n",
       "      <th>sales channel code</th>\n",
       "      <th>vintage</th>\n",
       "      <th>response</th>\n",
       "    </tr>\n",
       "  </thead>\n",
       "  <tbody>\n",
       "    <tr>\n",
       "      <th>0</th>\n",
       "      <td>1.0</td>\n",
       "      <td>MALE</td>\n",
       "      <td>44.0</td>\n",
       "      <td>1.0</td>\n",
       "      <td>28.0</td>\n",
       "      <td>0.0</td>\n",
       "      <td>&gt; 2 YEARS</td>\n",
       "      <td>YES</td>\n",
       "      <td>32842.102595</td>\n",
       "      <td>26.0</td>\n",
       "      <td>217.0</td>\n",
       "      <td>0.0</td>\n",
       "    </tr>\n",
       "    <tr>\n",
       "      <th>1</th>\n",
       "      <td>2.0</td>\n",
       "      <td>MALE</td>\n",
       "      <td>76.0</td>\n",
       "      <td>1.0</td>\n",
       "      <td>3.0</td>\n",
       "      <td>0.0</td>\n",
       "      <td>1-2 YEAR</td>\n",
       "      <td>NO</td>\n",
       "      <td>33536.000000</td>\n",
       "      <td>26.0</td>\n",
       "      <td>183.0</td>\n",
       "      <td>0.0</td>\n",
       "    </tr>\n",
       "    <tr>\n",
       "      <th>2</th>\n",
       "      <td>3.0</td>\n",
       "      <td>MALE</td>\n",
       "      <td>47.0</td>\n",
       "      <td>1.0</td>\n",
       "      <td>28.0</td>\n",
       "      <td>0.0</td>\n",
       "      <td>&gt; 2 YEARS</td>\n",
       "      <td>YES</td>\n",
       "      <td>33392.650125</td>\n",
       "      <td>26.0</td>\n",
       "      <td>27.0</td>\n",
       "      <td>0.0</td>\n",
       "    </tr>\n",
       "    <tr>\n",
       "      <th>3</th>\n",
       "      <td>4.0</td>\n",
       "      <td>MALE</td>\n",
       "      <td>21.0</td>\n",
       "      <td>1.0</td>\n",
       "      <td>11.0</td>\n",
       "      <td>1.0</td>\n",
       "      <td>&lt; 1 YEAR</td>\n",
       "      <td>NO</td>\n",
       "      <td>33392.650125</td>\n",
       "      <td>152.0</td>\n",
       "      <td>203.0</td>\n",
       "      <td>0.0</td>\n",
       "    </tr>\n",
       "    <tr>\n",
       "      <th>4</th>\n",
       "      <td>5.0</td>\n",
       "      <td>FEMALE</td>\n",
       "      <td>29.0</td>\n",
       "      <td>1.0</td>\n",
       "      <td>41.0</td>\n",
       "      <td>1.0</td>\n",
       "      <td>&lt; 1 YEAR</td>\n",
       "      <td>NO</td>\n",
       "      <td>33077.366063</td>\n",
       "      <td>152.0</td>\n",
       "      <td>39.0</td>\n",
       "      <td>0.0</td>\n",
       "    </tr>\n",
       "    <tr>\n",
       "      <th>...</th>\n",
       "      <td>...</td>\n",
       "      <td>...</td>\n",
       "      <td>...</td>\n",
       "      <td>...</td>\n",
       "      <td>...</td>\n",
       "      <td>...</td>\n",
       "      <td>...</td>\n",
       "      <td>...</td>\n",
       "      <td>...</td>\n",
       "      <td>...</td>\n",
       "      <td>...</td>\n",
       "      <td>...</td>\n",
       "    </tr>\n",
       "    <tr>\n",
       "      <th>380331</th>\n",
       "      <td>381105.0</td>\n",
       "      <td>MALE</td>\n",
       "      <td>74.0</td>\n",
       "      <td>1.0</td>\n",
       "      <td>26.0</td>\n",
       "      <td>1.0</td>\n",
       "      <td>1-2 YEAR</td>\n",
       "      <td>NO</td>\n",
       "      <td>30170.000000</td>\n",
       "      <td>26.0</td>\n",
       "      <td>88.0</td>\n",
       "      <td>0.0</td>\n",
       "    </tr>\n",
       "    <tr>\n",
       "      <th>380332</th>\n",
       "      <td>381106.0</td>\n",
       "      <td>MALE</td>\n",
       "      <td>30.0</td>\n",
       "      <td>1.0</td>\n",
       "      <td>37.0</td>\n",
       "      <td>1.0</td>\n",
       "      <td>&lt; 1 YEAR</td>\n",
       "      <td>NO</td>\n",
       "      <td>32842.102595</td>\n",
       "      <td>152.0</td>\n",
       "      <td>131.0</td>\n",
       "      <td>0.0</td>\n",
       "    </tr>\n",
       "    <tr>\n",
       "      <th>380333</th>\n",
       "      <td>381107.0</td>\n",
       "      <td>MALE</td>\n",
       "      <td>21.0</td>\n",
       "      <td>1.0</td>\n",
       "      <td>30.0</td>\n",
       "      <td>1.0</td>\n",
       "      <td>&lt; 1 YEAR</td>\n",
       "      <td>NO</td>\n",
       "      <td>35118.000000</td>\n",
       "      <td>160.0</td>\n",
       "      <td>161.0</td>\n",
       "      <td>0.0</td>\n",
       "    </tr>\n",
       "    <tr>\n",
       "      <th>380334</th>\n",
       "      <td>381108.0</td>\n",
       "      <td>FEMALE</td>\n",
       "      <td>68.0</td>\n",
       "      <td>1.0</td>\n",
       "      <td>14.0</td>\n",
       "      <td>0.0</td>\n",
       "      <td>&gt; 2 YEARS</td>\n",
       "      <td>YES</td>\n",
       "      <td>32629.379066</td>\n",
       "      <td>124.0</td>\n",
       "      <td>74.0</td>\n",
       "      <td>0.0</td>\n",
       "    </tr>\n",
       "    <tr>\n",
       "      <th>380335</th>\n",
       "      <td>381109.0</td>\n",
       "      <td>MALE</td>\n",
       "      <td>46.0</td>\n",
       "      <td>1.0</td>\n",
       "      <td>29.0</td>\n",
       "      <td>0.0</td>\n",
       "      <td>1-2 YEAR</td>\n",
       "      <td>NO</td>\n",
       "      <td>32586.026244</td>\n",
       "      <td>26.0</td>\n",
       "      <td>237.0</td>\n",
       "      <td>0.0</td>\n",
       "    </tr>\n",
       "  </tbody>\n",
       "</table>\n",
       "<p>380336 rows × 12 columns</p>\n",
       "</div>"
      ],
      "text/plain": [
       "        customer_id  Gender   age  driving licence present  region code   \n",
       "0               1.0    MALE  44.0                      1.0         28.0  \\\n",
       "1               2.0    MALE  76.0                      1.0          3.0   \n",
       "2               3.0    MALE  47.0                      1.0         28.0   \n",
       "3               4.0    MALE  21.0                      1.0         11.0   \n",
       "4               5.0  FEMALE  29.0                      1.0         41.0   \n",
       "...             ...     ...   ...                      ...          ...   \n",
       "380331     381105.0    MALE  74.0                      1.0         26.0   \n",
       "380332     381106.0    MALE  30.0                      1.0         37.0   \n",
       "380333     381107.0    MALE  21.0                      1.0         30.0   \n",
       "380334     381108.0  FEMALE  68.0                      1.0         14.0   \n",
       "380335     381109.0    MALE  46.0                      1.0         29.0   \n",
       "\n",
       "        previously insured vehicle age vehicle damage  annual_premium(in Rs)   \n",
       "0                      0.0   > 2 YEARS            YES           32842.102595  \\\n",
       "1                      0.0    1-2 YEAR             NO           33536.000000   \n",
       "2                      0.0   > 2 YEARS            YES           33392.650125   \n",
       "3                      1.0    < 1 YEAR             NO           33392.650125   \n",
       "4                      1.0    < 1 YEAR             NO           33077.366063   \n",
       "...                    ...         ...            ...                    ...   \n",
       "380331                 1.0    1-2 YEAR             NO           30170.000000   \n",
       "380332                 1.0    < 1 YEAR             NO           32842.102595   \n",
       "380333                 1.0    < 1 YEAR             NO           35118.000000   \n",
       "380334                 0.0   > 2 YEARS            YES           32629.379066   \n",
       "380335                 0.0    1-2 YEAR             NO           32586.026244   \n",
       "\n",
       "        sales channel code  vintage  response  \n",
       "0                     26.0    217.0       0.0  \n",
       "1                     26.0    183.0       0.0  \n",
       "2                     26.0     27.0       0.0  \n",
       "3                    152.0    203.0       0.0  \n",
       "4                    152.0     39.0       0.0  \n",
       "...                    ...      ...       ...  \n",
       "380331                26.0     88.0       0.0  \n",
       "380332               152.0    131.0       0.0  \n",
       "380333               160.0    161.0       0.0  \n",
       "380334               124.0     74.0       0.0  \n",
       "380335                26.0    237.0       0.0  \n",
       "\n",
       "[380336 rows x 12 columns]"
      ]
     },
     "execution_count": 29,
     "metadata": {},
     "output_type": "execute_result"
    }
   ],
   "source": [
    "Master_table = pd.merge(Cust_Details,Cust_Policy,on = 'customer_id')\n",
    "\n",
    "Master_table"
   ]
  },
  {
   "cell_type": "markdown",
   "id": "92f572be",
   "metadata": {},
   "source": [
    "## 4"
   ]
  },
  {
   "cell_type": "markdown",
   "id": "4b25ced9",
   "metadata": {},
   "source": [
    "## Important information from Master table"
   ]
  },
  {
   "cell_type": "code",
   "execution_count": 30,
   "id": "59d39e77",
   "metadata": {},
   "outputs": [
    {
     "name": "stdout",
     "output_type": "stream",
     "text": [
      "Gender wise average annual premium is : \n",
      " Gender\n",
      "FEMALE    33386.549928\n",
      "MALE      33436.739226\n",
      "Name: annual_premium(in Rs), dtype: float64 \n",
      "\n",
      "Age wise average annual premium is :\n",
      "age\n",
      "20.0     6216\n",
      "21.0    16412\n",
      "22.0    20897\n",
      "23.0    24196\n",
      "24.0    25884\n",
      "        ...  \n",
      "81.0       56\n",
      "82.0       29\n",
      "83.0       22\n",
      "84.0       11\n",
      "85.0       11\n",
      "Name: age, Length: 67, dtype: int64 \n",
      "\n"
     ]
    },
    {
     "data": {
      "image/png": "[encoded data removed]",
      "text/plain": [
       "<Figure size 640x480 with 1 Axes>"
      ]
     },
     "metadata": {},
     "output_type": "display_data"
    }
   ],
   "source": [
    "# i) Gender wise annual premium\n",
    "\n",
    "annual_premium_gender_mean = Master_table.groupby('Gender')['annual_premium(in Rs)'].mean()\n",
    "\n",
    "print('Gender wise average annual premium is :','\\n',annual_premium_gender_mean,'\\n')\n",
    "\n",
    "\n",
    "# ii) Age wise annual premium \n",
    "\n",
    "annual_premium_age_count = Master_table.groupby('age')['age'].count()\n",
    "\n",
    "print('Age wise average annual premium is :')\n",
    "print(annual_premium_age_count,'\\n')\n",
    "\n",
    "age_premium_graph = annual_premium_age_count.plot(kind = 'bar',x = 'age',y = 'annual_premium(in Rs)')\n",
    "\n",
    "\n",
    "\n"
   ]
  },
  {
   "cell_type": "code",
   "execution_count": 31,
   "id": "8acd154b",
   "metadata": {},
   "outputs": [
    {
     "name": "stdout",
     "output_type": "stream",
     "text": [
      "Gender\n",
      "FEMALE    174485\n",
      "MALE      205851\n",
      "Name: customer_id, dtype: int64\n",
      "Gender data is not balanced\n"
     ]
    }
   ],
   "source": [
    "# iii) is data balanced between Genders\n",
    "Gender_count = Master_table.groupby('Gender')['customer_id'].count()\n",
    "print(Gender_count)\n",
    "if Gender_count['MALE'] == Gender_count['FEMALE']:\n",
    "    print('Gender data is balanced')\n",
    "else:\n",
    "    print('Gender data is not balanced')\n",
    "\n"
   ]
  },
  {
   "cell_type": "code",
   "execution_count": 33,
   "id": "f0c21c3d",
   "metadata": {},
   "outputs": [
    {
     "name": "stdout",
     "output_type": "stream",
     "text": [
      "vehicle age\n",
      "1-2 YEAR     33484.788320\n",
      "< 1 YEAR     33318.735651\n",
      "> 2 YEARS    33500.526387\n",
      "Name: annual_premium(in Rs), dtype: float64\n"
     ]
    }
   ],
   "source": [
    "# iv) vehicle age wise average annual premium\n",
    "\n",
    "Vehicle_age_group = Master_table.groupby('vehicle age')\n",
    "mean_annual_vehicle = Vehicle_age_group['annual_premium(in Rs)'].mean()\n",
    "print(mean_annual_vehicle)"
   ]
  },
  {
   "cell_type": "markdown",
   "id": "2379e2a1",
   "metadata": {},
   "source": [
    "## 5"
   ]
  },
  {
   "cell_type": "markdown",
   "id": "bd4df56d",
   "metadata": {},
   "source": [
    "## Finding Correlation between Annual premium and Age"
   ]
  },
  {
   "cell_type": "code",
   "execution_count": 34,
   "id": "49d57f69",
   "metadata": {},
   "outputs": [
    {
     "name": "stdout",
     "output_type": "stream",
     "text": [
      "There is no relation between Person age and annual premium\n"
     ]
    }
   ],
   "source": [
    "correlation = Master_table['age'].corr(Master_table['annual_premium(in Rs)'])\n",
    "if correlation >0.5:\n",
    "    print('The relation between Person Age and annual premium is strong positive relationship')\n",
    "elif correlation < -0.5:\n",
    "    print('The relation between Person Age and annual premium is strong negative relationship')\n",
    "else:\n",
    "    print('There is no relation between Person age and annual premium')"
   ]
  }
 ],
 "metadata": {
  "kernelspec": {
   "display_name": "Python 3 (ipykernel)",
   "language": "python",
   "name": "python3"
  },
  "language_info": {
   "codemirror_mode": {
    "name": "ipython",
    "version": 3
   },
   "file_extension": ".py",
   "mimetype": "text/x-python",
   "name": "python",
   "nbconvert_exporter": "python",
   "pygments_lexer": "ipython3",
   "version": "3.9.13"
  }
 },
 "nbformat": 4,
 "nbformat_minor": 5
}
